{
 "cells": [
  {
   "cell_type": "code",
   "execution_count": 4,
   "metadata": {
    "collapsed": true
   },
   "outputs": [],
   "source": [
    "import pandas as pd\n",
    "df = pd.read_csv(\"C:\\\\Users\\\\smita16\\\\Desktop\\\\forcols.csv\")\n",
    "df.columns = ['imei', 'ts', 'coldet']\n",
    "df['ts']=pd.to_datetime(df['ts'])"
   ]
  },
  {
   "cell_type": "code",
   "execution_count": 5,
   "metadata": {},
   "outputs": [
    {
     "name": "stdout",
     "output_type": "stream",
     "text": [
      "imei           14256000018566\n",
      "ts        2018-01-26 00:45:54\n",
      "coldet                    Off\n",
      "Name: 0, dtype: object\n"
     ]
    },
    {
     "ename": "NameError",
     "evalue": "name 'lastEvent' is not defined",
     "output_type": "error",
     "traceback": [
      "\u001b[0;31m---------------------------------------------------------------------------\u001b[0m",
      "\u001b[0;31mNameError\u001b[0m                                 Traceback (most recent call last)",
      "\u001b[0;32m<ipython-input-5-98adc79a67c7>\u001b[0m in \u001b[0;36m<module>\u001b[0;34m()\u001b[0m\n\u001b[1;32m     16\u001b[0m         \u001b[0mcolStarted\u001b[0m\u001b[0;34m=\u001b[0m\u001b[0;32mTrue\u001b[0m\u001b[0;34m\u001b[0m\u001b[0m\n\u001b[1;32m     17\u001b[0m     \u001b[0;32melse\u001b[0m\u001b[0;34m:\u001b[0m\u001b[0;34m\u001b[0m\u001b[0m\n\u001b[0;32m---> 18\u001b[0;31m         \u001b[0meventList\u001b[0m\u001b[0;34m.\u001b[0m\u001b[0mappend\u001b[0m\u001b[0;34m(\u001b[0m\u001b[0;34m(\u001b[0m\u001b[0mrow\u001b[0m\u001b[0;34m[\u001b[0m\u001b[0;34m'imei'\u001b[0m\u001b[0;34m]\u001b[0m\u001b[0;34m,\u001b[0m\u001b[0mlastEvent\u001b[0m\u001b[0;34m[\u001b[0m\u001b[0;34m'ts'\u001b[0m\u001b[0;34m]\u001b[0m\u001b[0;34m,\u001b[0m\u001b[0mrow\u001b[0m\u001b[0;34m[\u001b[0m\u001b[0;34m'ts'\u001b[0m\u001b[0;34m]\u001b[0m\u001b[0;34m,\u001b[0m\u001b[0;34m\"gut\"\u001b[0m\u001b[0;34m)\u001b[0m\u001b[0;34m)\u001b[0m\u001b[0;34m\u001b[0m\u001b[0m\n\u001b[0m\u001b[1;32m     19\u001b[0m         \u001b[0mcolStarted\u001b[0m\u001b[0;34m=\u001b[0m\u001b[0;32mFalse\u001b[0m\u001b[0;34m\u001b[0m\u001b[0m\n\u001b[1;32m     20\u001b[0m     \u001b[0mlastEvent\u001b[0m\u001b[0;34m=\u001b[0m\u001b[0mrow\u001b[0m\u001b[0;34m\u001b[0m\u001b[0m\n",
      "\u001b[0;31mNameError\u001b[0m: name 'lastEvent' is not defined"
     ]
    }
   ],
   "source": [
    "eventList = []\n",
    "isFirst = True\n",
    "colStarted = False\n",
    "currentImei = 0\n",
    "for index, row in df.iterrows():\n",
    "    print(row)\n",
    "    if currentImei!=row['imei']:\n",
    "        if colStarted==True:\n",
    "            eventList.append((lastEvent['imei'],lastEvent['ts'],0,\"end imei\"))  \n",
    "            colStarted=false\n",
    "        currentImei=row['imei']\n",
    "\n",
    "    if row['coldet']=='On':\n",
    "        if colStarted:\n",
    "            eventList.append((lastEvent['imei'],lastEvent['ts'],0,\"end col\"))  \n",
    "        colStarted=True\n",
    "    else:\n",
    "        eventList.append((row['imei'],lastEvent['ts'],row['ts'],\"gut\"))\n",
    "        colStarted=False  \n",
    "    lastEvent=row"
   ]
  },
  {
   "cell_type": "code",
   "execution_count": 65,
   "metadata": {
    "collapsed": true
   },
   "outputs": [],
   "source": [
    "for r in eventList:\n",
    "    print(r)"
   ]
  },
  {
   "cell_type": "code",
   "execution_count": 66,
   "metadata": {},
   "outputs": [
    {
     "data": {
      "text/plain": [
       "807"
      ]
     },
     "execution_count": 66,
     "metadata": {},
     "output_type": "execute_result"
    }
   ],
   "source": [
    "len(eventList)"
   ]
  },
  {
   "cell_type": "code",
   "execution_count": 67,
   "metadata": {
    "collapsed": true
   },
   "outputs": [],
   "source": [
    "print(eventList)"
   ]
  },
  {
   "cell_type": "code",
   "execution_count": 6,
   "metadata": {},
   "outputs": [
    {
     "name": "stdout",
     "output_type": "stream",
     "text": [
      "                imei                  ts coldet\n",
      "0     14256000018566 2018-01-26 00:45:54    Off\n",
      "1     14256000018566 2018-01-28 20:36:07     On\n",
      "2     14256000018566 2018-01-28 20:36:11    Off\n",
      "3     14256000018566 2018-01-30 21:27:17    Off\n",
      "4     14256000031825 2018-01-29 17:15:53     On\n",
      "5     14256000031825 2018-01-29 17:15:57    Off\n",
      "6     14256000031825 2018-01-30 05:02:37    Off\n",
      "7     14256000032682 2018-01-26 19:06:45    Off\n",
      "8     14256000062044 2018-01-28 02:32:51    Off\n",
      "9     14256000062044 2018-01-28 16:15:10    Off\n",
      "10    14256000062044 2018-01-31 23:36:12     On\n",
      "11    14256000062044 2018-01-31 23:36:16    Off\n",
      "12    14256000062044 2018-02-01 18:33:01    Off\n",
      "13    14256000062184 2018-01-29 18:49:31    Off\n",
      "14    14256000062499 2018-01-30 12:01:19    Off\n",
      "15    14256000062507 2018-01-28 00:39:29    Off\n",
      "16    14256000059099 2018-01-27 21:38:49     On\n",
      "17    14256000059099 2018-01-27 21:38:53    Off\n",
      "18    14256000059099 2018-01-27 22:47:52     On\n",
      "19    14256000059099 2018-01-27 22:47:56    Off\n",
      "20    14256000059099 2018-01-28 18:37:04     On\n",
      "21    14256000059099 2018-01-28 18:37:08    Off\n",
      "22    14256000059099 2018-01-29 17:39:43    Off\n",
      "23    14256000059099 2018-01-31 17:43:08     On\n",
      "24    14256000059099 2018-01-31 17:43:12    Off\n",
      "25    14256000059099 2018-01-31 18:54:18     On\n",
      "26    14256000059099 2018-01-31 18:54:22    Off\n",
      "27    14256000059099 2018-01-31 19:00:20     On\n",
      "28    14256000059099 2018-01-31 19:00:24    Off\n",
      "29    14256000059099 2018-02-01 15:31:30    Off\n",
      "...              ...                 ...    ...\n",
      "1081  14256000026999 2018-01-31 19:21:56    Off\n",
      "1082  14256000026999 2018-02-01 18:31:22    Off\n",
      "1083  14256000026544 2018-01-27 18:28:09    Off\n",
      "1084  14256000026635 2018-01-28 18:45:45    Off\n",
      "1085  14256000026668 2018-01-27 17:28:41    Off\n",
      "1086  14256000026692 2018-01-26 17:15:31    Off\n",
      "1087  14256000026692 2018-01-29 17:38:37    Off\n",
      "1088  14256000026692 2018-01-29 20:03:31    Off\n",
      "1089  14256000026742 2018-01-27 12:18:32    Off\n",
      "1090  14256000026742 2018-01-27 16:22:52    Off\n",
      "1091  14256000026742 2018-01-30 23:47:58    Off\n",
      "1092  14256000026742 2018-01-31 22:07:12    Off\n",
      "1093  14256000011561 2018-01-27 17:42:36    Off\n",
      "1094  14256000011561 2018-02-01 11:39:28    Off\n",
      "1095  14256000011561 2018-02-01 12:03:28     On\n",
      "1096  14256000011561 2018-02-01 12:03:32    Off\n",
      "1097  14256000093346 2018-01-27 15:45:00     On\n",
      "1098  14256000093346 2018-01-27 15:45:04    Off\n",
      "1099  14256000093346 2018-01-28 17:27:22    Off\n",
      "1100  14256000093346 2018-01-29 13:56:49    Off\n",
      "1101  14256000093346 2018-02-01 19:39:26    Off\n",
      "1102  14256000093346 2018-02-01 19:46:42     On\n",
      "1103  14256000093346 2018-02-01 19:46:46    Off\n",
      "1104  14256000093627 2018-01-28 16:46:52    Off\n",
      "1105  14256000093627 2018-02-01 14:39:18     On\n",
      "1106  14256000093627 2018-02-01 14:39:22    Off\n",
      "1107  14256000094146 2018-01-26 12:07:40     On\n",
      "1108  14256000094146 2018-01-26 12:07:43    Off\n",
      "1109  14256000094146 2018-01-27 19:44:42    Off\n",
      "1110  14256000094146 2018-01-31 22:41:43    Off\n",
      "\n",
      "[1111 rows x 3 columns]\n"
     ]
    }
   ],
   "source": [
    "print(df)"
   ]
  },
  {
   "cell_type": "code",
   "execution_count": null,
   "metadata": {
    "collapsed": true
   },
   "outputs": [],
   "source": []
  }
 ],
 "metadata": {
  "kernelspec": {
   "display_name": "Python 3",
   "language": "python",
   "name": "python3"
  },
  "language_info": {
   "codemirror_mode": {
    "name": "ipython",
    "version": 3
   },
   "file_extension": ".py",
   "mimetype": "text/x-python",
   "name": "python",
   "nbconvert_exporter": "python",
   "pygments_lexer": "ipython3",
   "version": "3.6.2"
  }
 },
 "nbformat": 4,
 "nbformat_minor": 1
}
