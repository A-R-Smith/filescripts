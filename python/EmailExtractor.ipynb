{
 "cells": [
  {
   "cell_type": "code",
   "execution_count": 11,
   "metadata": {
    "collapsed": true
   },
   "outputs": [
    {
     "name": "stdout",
     "output_type": "stream",
     "text": [
      "hari.anantha@nationwide.com\n\ntodd.anello@nationwide.com\n\nbella21@nationwide.com\n\nalan.bond@nationwide.com\n\ndaniel.bornman@nationwide.com\n\nburchg1@nationwide.com\n\ncolin.byler@nationwide.com\n\nchenz1@nationwide.com\n\ncraige3@nationwide.com\n\ncraigk7@nationwide.com\n\nalan.czarnecki@nationwide.com\n\ndingusd@nationwide.com\n\ndumolts@nationwide.com\n\nfawcetd@nationwide.com\n\nguptav4@nationwide.com\n\nhalls35@nationwide.com\n\nhaya3@nationwide.com\n\nliuk3@nationwide.com\n\nbruce.macdonald@nationwide.com\n\nmalonej8@nationwide.com\n\nmillb20@nationwide.com\n\nmoosas1@nationwide.com\n\nperrs2@nationwide.com\n\nmike.price@nationwide.com\n\nridoutl@nationwide.com\n\nshakia3@nationwide.com\n\nsvobol1@nationwide.com\n\ndeb.taylor@nationwide.com\n\nthirums@nationwide.com\n\nudeanc1@nationwide.com\n\nvinayg1@nationwide.com\n\nt.waweru@nationwide.com\n\ndaniel.bornman@nationwide.com\n\nbransc2@nationwide.com\n\ndan2@nationwide.com\n\ncraigr2@nationwide.com\n\nhaya3@nationwide.com\n\njamie.kilgore@nationwide.com\n\nleitnim@nationwide.com\n\njason.matunas@nationwide.com\n\nkrish.rajaram@nationwide.com\n\nsuchita.samant@nationwide.com\n\nalex.smith@nationwide.com\n\nrajesh.nandagiri@nationwide.com\n\nscott.vansickle@nationwide.com \n\n"
     ]
    }
   ],
   "source": [
    "with open('C:\\\\Users\\\\smita16\\\\Desktop\\\\new 1.txt') as input_file:\n",
    "    for line in input_file:\n",
    "        if '@nationwide' in line: \n",
    "            print(line) \n",
    "        \n",
    "input_file.close()"
   ]
  },
  {
   "cell_type": "code",
   "execution_count": 9,
   "metadata": {},
   "outputs": [
    {
     "name": "stdout",
     "output_type": "stream",
     "text": [
      "ye\n"
     ]
    }
   ],
   "source": [
    "line = \"hari.anantha@nationwide.com\\n\"\n",
    "\n",
    "if \"@nationwide\" in line:\n",
    "    print(\"ye\")\n",
    "else:\n",
    "    print(\"ne\")"
   ]
  },
  {
   "cell_type": "code",
   "execution_count": null,
   "metadata": {},
   "outputs": [],
   "source": []
  }
 ],
 "metadata": {
  "kernelspec": {
   "display_name": "Python 2",
   "language": "python",
   "name": "python2"
  },
  "language_info": {
   "codemirror_mode": {
    "name": "ipython",
    "version": 2
   },
   "file_extension": ".py",
   "mimetype": "text/x-python",
   "name": "python",
   "nbconvert_exporter": "python",
   "pygments_lexer": "ipython2",
   "version": "2.7.6"
  }
 },
 "nbformat": 4,
 "nbformat_minor": 0
}
