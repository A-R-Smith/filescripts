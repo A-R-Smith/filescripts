{
 "cells": [
  {
   "cell_type": "code",
   "execution_count": 7,
   "metadata": {
    "collapsed": false
   },
   "outputs": [
    {
     "name": "stdout",
     "output_type": "stream",
     "text": [
      "{'took': 13, 'timed_out': False, '_shards': {'total': 5, 'successful': 5, 'failed': 0}, 'hits': {'total': 3, 'max_score': 4.6244545, 'hits': [{'_index': 'sensor', '_type': 'inventory', '_id': 'AVv9ZAzw1P7Xb3fT8tl_', '_score': 4.6244545, '_source': {'modelID': 'SHT31', 'deviceID': 'sht-0016', 'gatewayID': 'gateway16q'}}, {'_index': 'sensor', '_type': 'inventory', '_id': 'AVv9ZAzw1P7Xb3fT8tmn', '_score': 4.6242137, '_source': {'modelID': 'H2O', 'deviceID': 'h2o-0016', 'gatewayID': 'gateway16q'}}, {'_index': 'sensor', '_type': 'inventory', '_id': 'AVv9ZAzw1P7Xb3fT8tmT', '_score': 4.619012, '_source': {'modelID': 'MQ-4', 'deviceID': 'gas-0016', 'gatewayID': 'gateway16q'}}]}}\n"
     ]
    }
   ],
   "source": [
    "import requests\n",
    "\n",
    "url = 'http://52.167.129.245:9200/sensor/inventory/_search?pretty=true'\n",
    "data = '''{\n",
    "  \"query\": {\n",
    "    \"term\": {\n",
    "      \"gatewayID.keyword\": \"gateway16q\" \n",
    "    }\n",
    "  }\n",
    "}'''\n",
    "response = requests.post(url, data=data)\n",
    "json = response.json()\n",
    "print(json)"
   ]
  },
  {
   "cell_type": "code",
   "execution_count": 41,
   "metadata": {},
   "outputs": [],
   "source": [
    "import requests\n",
    "proxies = {'http': 'http://127.0.0.1:3128', 'https': 'http://127.0.0.1:3128'}\n",
    "fileName = 'C:\\\\Users\\\\smita16\\\\Desktop\\\\trip37New.csv'\n",
    "f = open(fileName, 'r')\n",
    "files={'file':('trip37New.csv', f)}\n",
    "# str = f.readline()\n",
    "# print(str)\n",
    "# str = f.readline()\n",
    "# print(str)\n",
    "# str = f.readline()\n",
    "# print(str)\n",
    "\n",
    "url='https://rme.cit.api.here.com/2/matchroute.json'\n",
    "headers={'Accept': 'application/json',\n",
    "         'Content-Type': 'application/csv'}\n",
    "payload={\n",
    "        'routemode': 'car',\n",
    "        'app_id': 'icmlPVJleVEibfhdFPr3',\n",
    "        'app_code': 'FiTQEXh_45weCG3-RSMpQA'}\n",
    "response=requests.post(url=url, headers=headers, params=payload, proxies=proxies, files=files)\n",
    "\n"
   ]
  },
  {
   "cell_type": "code",
   "execution_count": 42,
   "metadata": {},
   "outputs": [
    {
     "data": {
      "text/plain": [
       "b'{\"faultCode\":\"55f5e430-2c3c-48f1-bc9b-96524dfc5a09\",\"responseCode\":\"400 Bad Request\",\"message\":\"Column LATITUDE missing\"}'"
      ]
     },
     "execution_count": 42,
     "metadata": {},
     "output_type": "execute_result"
    }
   ],
   "source": [
    "response.content"
   ]
  },
  {
   "cell_type": "code",
   "execution_count": 14,
   "metadata": {},
   "outputs": [
    {
     "data": {
      "text/plain": [
       "{'file': ('trip37New.csv',\n  <_io.BufferedReader name='C:\\\\Users\\\\smita16\\\\Desktop\\\\trip37New.csv'>)}"
      ]
     },
     "execution_count": 14,
     "metadata": {},
     "output_type": "execute_result"
    }
   ],
   "source": [
    "files"
   ]
  },
  {
   "cell_type": "code",
   "execution_count": null,
   "metadata": {},
   "outputs": [],
   "source": []
  }
 ],
 "metadata": {
  "kernelspec": {
   "display_name": "Python 2",
   "language": "python",
   "name": "python2"
  },
  "language_info": {
   "codemirror_mode": {
    "name": "ipython",
    "version": 2
   },
   "file_extension": ".py",
   "mimetype": "text/x-python",
   "name": "python",
   "nbconvert_exporter": "python",
   "pygments_lexer": "ipython2",
   "version": "2.7.6"
  }
 },
 "nbformat": 4,
 "nbformat_minor": 0
}
