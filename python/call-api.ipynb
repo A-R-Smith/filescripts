{
 "cells": [
  {
   "cell_type": "code",
   "execution_count": 7,
   "metadata": {
    "collapsed": true
   },
   "outputs": [
    {
     "name": "stdout",
     "output_type": "stream",
     "text": [
      "{'took': 13, 'timed_out': False, '_shards': {'total': 5, 'successful': 5, 'failed': 0}, 'hits': {'total': 3, 'max_score': 4.6244545, 'hits': [{'_index': 'sensor', '_type': 'inventory', '_id': 'AVv9ZAzw1P7Xb3fT8tl_', '_score': 4.6244545, '_source': {'modelID': 'SHT31', 'deviceID': 'sht-0016', 'gatewayID': 'gateway16q'}}, {'_index': 'sensor', '_type': 'inventory', '_id': 'AVv9ZAzw1P7Xb3fT8tmn', '_score': 4.6242137, '_source': {'modelID': 'H2O', 'deviceID': 'h2o-0016', 'gatewayID': 'gateway16q'}}, {'_index': 'sensor', '_type': 'inventory', '_id': 'AVv9ZAzw1P7Xb3fT8tmT', '_score': 4.619012, '_source': {'modelID': 'MQ-4', 'deviceID': 'gas-0016', 'gatewayID': 'gateway16q'}}]}}\n"
     ]
    }
   ],
   "source": [
    "import requests\n",
    "\n",
    "url = 'http://52.167.129.245:9200/sensor/inventory/_search?pretty=true'\n",
    "data = '''{\n",
    "  \"query\": {\n",
    "    \"term\": {\n",
    "      \"gatewayID.keyword\": \"gateway16q\" \n",
    "    }\n",
    "  }\n",
    "}'''\n",
    "response = requests.post(url, data=data)\n",
    "json = response.json()\n",
    "print(json)"
   ]
  }
 ],
 "metadata": {
  "kernelspec": {
   "display_name": "Python 2",
   "language": "python",
   "name": "python2"
  },
  "language_info": {
   "codemirror_mode": {
    "name": "ipython",
    "version": 2
   },
   "file_extension": ".py",
   "mimetype": "text/x-python",
   "name": "python",
   "nbconvert_exporter": "python",
   "pygments_lexer": "ipython2",
   "version": "2.7.6"
  }
 },
 "nbformat": 4,
 "nbformat_minor": 0
}
